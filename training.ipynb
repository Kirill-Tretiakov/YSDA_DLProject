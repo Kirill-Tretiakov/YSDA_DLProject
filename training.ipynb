{
  "cells": [
    {
      "cell_type": "markdown",
      "metadata": {
        "id": "BA48RWX5u7T8"
      },
      "source": [
        "# Данные"
      ]
    },
    {
      "cell_type": "code",
      "execution_count": 1,
      "metadata": {
        "colab": {
          "base_uri": "https://localhost:8080/"
        },
        "id": "2u45EvcyvjIA",
        "outputId": "e8dd433f-618d-4ff5-d9fb-10cff2a0c27c"
      },
      "outputs": [],
      "source": [
        "!pip install --quiet datasets"
      ]
    },
    {
      "cell_type": "code",
      "execution_count": 2,
      "metadata": {
        "id": "vBS8gX5od5oV"
      },
      "outputs": [],
      "source": [
        "from datasets import Dataset\n",
        "import json\n",
        "from collections import Counter\n",
        "from sklearn.model_selection import train_test_split"
      ]
    },
    {
      "cell_type": "markdown",
      "metadata": {},
      "source": [
        "# Читаем датасет"
      ]
    },
    {
      "cell_type": "code",
      "execution_count": null,
      "metadata": {
        "id": "dWI-vwlzuvkJ"
      },
      "outputs": [],
      "source": [
        "with open('dataset.json', 'r', encoding='utf-8') as f:\n",
        "    data = json.load(f)"
      ]
    },
    {
      "cell_type": "markdown",
      "metadata": {},
      "source": [
        "# Преобразуем классы"
      ]
    },
    {
      "cell_type": "code",
      "execution_count": null,
      "metadata": {
        "id": "qFfvaGSwc8eF"
      },
      "outputs": [],
      "source": [
        "for d in data:\n",
        "    if d[\"label\"] == \"ANSWER\":\n",
        "        d[\"label\"] = \"CHAT\"\n",
        "    elif d[\"label\"] == \"SUPPORT\":\n",
        "        d[\"label\"] = \"QUESTION\""
      ]
    },
    {
      "cell_type": "markdown",
      "metadata": {},
      "source": [
        "# Некоторая инфа по таргет рейту данных"
      ]
    },
    {
      "cell_type": "code",
      "execution_count": null,
      "metadata": {
        "colab": {
          "base_uri": "https://localhost:8080/"
        },
        "id": "TMaq9lrYbnzN",
        "outputId": "8a3d489b-a8c8-4c99-8489-65ce6367de2b"
      },
      "outputs": [
        {
          "name": "stdout",
          "output_type": "stream",
          "text": [
            "{'SPAM': 178, 'QUESTION': 247, 'FEEDBACK': 167, 'CHAT': 298, 'IMPORTANT': 11}\n"
          ]
        }
      ],
      "source": [
        "def calc_target_rates(data):\n",
        "  target_rates = {\n",
        "    \"SPAM\": 0,\n",
        "    \"QUESTION\": 0,\n",
        "    \"FEEDBACK\": 0,\n",
        "    \"CHAT\": 0,\n",
        "    \"IMPORTANT\": 0\n",
        "  }\n",
        "  for dct in data:\n",
        "    target_rates[dct['label']] += 1\n",
        "  return target_rates\n",
        "print(calc_target_rates(data))"
      ]
    },
    {
      "cell_type": "code",
      "execution_count": null,
      "metadata": {
        "id": "O01F_kuGd1kM"
      },
      "outputs": [],
      "source": [
        "train_data, test_data = train_test_split(data, test_size=0.2, random_state=42, shuffle=True)"
      ]
    },
    {
      "cell_type": "code",
      "execution_count": null,
      "metadata": {
        "colab": {
          "base_uri": "https://localhost:8080/"
        },
        "id": "9A0Fx2pLjcmY",
        "outputId": "84df248d-6a7a-41c0-9865-59dd83e32a2e"
      },
      "outputs": [
        {
          "name": "stdout",
          "output_type": "stream",
          "text": [
            "{'SPAM': 141, 'QUESTION': 202, 'FEEDBACK': 134, 'CHAT': 236, 'IMPORTANT': 7}\n"
          ]
        }
      ],
      "source": [
        "print(calc_target_rates(train_data))"
      ]
    },
    {
      "cell_type": "code",
      "execution_count": null,
      "metadata": {
        "colab": {
          "base_uri": "https://localhost:8080/"
        },
        "id": "mqQsF24Ujd2Z",
        "outputId": "cf23b083-5481-4dfa-a70c-3b73f3c99cc9"
      },
      "outputs": [
        {
          "name": "stdout",
          "output_type": "stream",
          "text": [
            "{'SPAM': 37, 'QUESTION': 45, 'FEEDBACK': 33, 'CHAT': 62, 'IMPORTANT': 4}\n"
          ]
        }
      ],
      "source": [
        "print(calc_target_rates(test_data))"
      ]
    },
    {
      "cell_type": "code",
      "execution_count": null,
      "metadata": {
        "id": "tQ5pVIaaTvSR"
      },
      "outputs": [],
      "source": [
        "import random\n",
        "\n",
        "dataset_train = Dataset.from_list(train_data)\n",
        "\n",
        "test_data_arr = [t[\"text\"] for t in test_data]\n",
        "dataset_test = Dataset.from_list(test_data)"
      ]
    },
    {
      "cell_type": "code",
      "execution_count": null,
      "metadata": {
        "colab": {
          "base_uri": "https://localhost:8080/"
        },
        "id": "y4il7AM9QXYs",
        "outputId": "f29b8051-b8ad-4068-ba71-f6bc957adbf8"
      },
      "outputs": [
        {
          "data": {
            "text/plain": [
              "Dataset({\n",
              "    features: ['text', 'label'],\n",
              "    num_rows: 720\n",
              "})"
            ]
          },
          "execution_count": 287,
          "metadata": {},
          "output_type": "execute_result"
        }
      ],
      "source": [
        "dataset_train"
      ]
    },
    {
      "cell_type": "code",
      "execution_count": null,
      "metadata": {
        "colab": {
          "base_uri": "https://localhost:8080/"
        },
        "id": "cn8zsnZpQY4q",
        "outputId": "6a66fc2f-b81d-4e95-ae8d-6195414ab074"
      },
      "outputs": [
        {
          "data": {
            "text/plain": [
              "Dataset({\n",
              "    features: ['text', 'label'],\n",
              "    num_rows: 181\n",
              "})"
            ]
          },
          "execution_count": 288,
          "metadata": {},
          "output_type": "execute_result"
        }
      ],
      "source": [
        "dataset_test"
      ]
    },
    {
      "cell_type": "markdown",
      "metadata": {
        "id": "9rt_1BUFw7S3"
      },
      "source": [
        "# Параметры"
      ]
    },
    {
      "cell_type": "code",
      "execution_count": null,
      "metadata": {
        "id": "WXXC9nGfw8ox"
      },
      "outputs": [],
      "source": [
        "id2label = {\n",
        "    0: \"SPAM\",\n",
        "    1: \"QUESTION\",\n",
        "    2: \"FEEDBACK\",\n",
        "    3: \"CHAT\",\n",
        "    4: \"IMPORTANT\"\n",
        "}\n",
        "\n",
        "label2id = {v: k for k, v in id2label.items()}"
      ]
    },
    {
      "cell_type": "markdown",
      "metadata": {
        "id": "VK1E2mNhu_xx"
      },
      "source": [
        "# Модель"
      ]
    },
    {
      "cell_type": "code",
      "execution_count": null,
      "metadata": {
        "id": "EkoXmeNfvErI"
      },
      "outputs": [],
      "source": [
        "from transformers import AutoTokenizer, AutoModelForSequenceClassification\n",
        "from transformers import TrainingArguments, Trainer\n",
        "from transformers import pipeline"
      ]
    },
    {
      "cell_type": "code",
      "execution_count": null,
      "metadata": {
        "id": "jOImPh8I2u0T"
      },
      "outputs": [],
      "source": [
        "from google.colab import userdata\n",
        "from huggingface_hub import login\n",
        "\n",
        "hf_token = userdata.get('HF_TOKEN')\n",
        "login(token=hf_token)"
      ]
    },
    {
      "cell_type": "code",
      "execution_count": null,
      "metadata": {
        "colab": {
          "base_uri": "https://localhost:8080/"
        },
        "id": "5Etfzi_pLvVT",
        "outputId": "c0bc147d-af74-418a-efd9-dac63b27fefa"
      },
      "outputs": [
        {
          "name": "stdout",
          "output_type": "stream",
          "text": [
            "Using device: cuda\n"
          ]
        }
      ],
      "source": [
        "import torch\n",
        "device = torch.device(\"cuda\" if torch.cuda.is_available() else \"cpu\")\n",
        "print(f\"Using device: {device}\")"
      ]
    },
    {
      "cell_type": "code",
      "execution_count": null,
      "metadata": {
        "id": "PYZRR8EEAqq_"
      },
      "outputs": [],
      "source": [
        "from torch import nn\n",
        "from transformers import AutoModel, AutoModelForSequenceClassification\n",
        "\n",
        "class CustomClassificationHead(nn.Module):\n",
        "    def __init__(self, hidden_size, num_labels):\n",
        "        super().__init__()\n",
        "        self.layers = nn.Sequential(\n",
        "            nn.Linear(hidden_size, hidden_size),\n",
        "            nn.ReLU(),\n",
        "            nn.Linear(hidden_size, hidden_size // 2),\n",
        "            nn.ReLU(),\n",
        "            nn.Linear(hidden_size // 2, num_labels)\n",
        "        )\n",
        "\n",
        "    def forward(self, x):\n",
        "        return self.layers(x)\n",
        "\n",
        "class CustomModel(AutoModelForSequenceClassification):\n",
        "    def __init__(self, config):\n",
        "        super().__init__(config)\n",
        "        self.num_labels = config.num_labels\n",
        "        self.bert = AutoModel.from_pretrained(config._name_or_path, config=config)\n",
        "        hidden_size = config.hidden_size\n",
        "\n",
        "        self.classifier = CustomClassificationHead(hidden_size, config.num_labels)\n",
        "\n",
        "    def forward(self, **kwargs):\n",
        "        outputs = self.bert(**kwargs)\n",
        "        pooled_output = outputs.pooler_output  # [CLS] токен\n",
        "        logits = self.classifier(pooled_output)\n",
        "        return {'logits': logits}"
      ]
    },
    {
      "cell_type": "code",
      "execution_count": null,
      "metadata": {
        "colab": {
          "base_uri": "https://localhost:8080/"
        },
        "id": "NlUvJxUIw5kZ",
        "outputId": "0c0fa8c7-a84b-4811-9269-f6226c417893"
      },
      "outputs": [
        {
          "name": "stderr",
          "output_type": "stream",
          "text": [
            "Some weights of BertForSequenceClassification were not initialized from the model checkpoint at blanchefort/rubert-base-cased-sentiment and are newly initialized because the shapes did not match:\n",
            "- classifier.bias: found shape torch.Size([3]) in the checkpoint and torch.Size([5]) in the model instantiated\n",
            "- classifier.weight: found shape torch.Size([3, 768]) in the checkpoint and torch.Size([5, 768]) in the model instantiated\n",
            "You should probably TRAIN this model on a down-stream task to be able to use it for predictions and inference.\n"
          ]
        }
      ],
      "source": [
        "from transformers import AutoTokenizer, AutoConfig\n",
        "\n",
        "model_name = \"blanchefort/rubert-base-cased-sentiment\"\n",
        "\n",
        "tokenizer = AutoTokenizer.from_pretrained(model_name)\n",
        "config = AutoConfig.from_pretrained(\n",
        "    model_name,\n",
        "    num_labels=len(id2label),\n",
        "    id2label=id2label,\n",
        "    label2id=label2id\n",
        ")\n",
        "\n",
        "model = CustomModel.from_pretrained(model_name, config=config, ignore_mismatched_sizes=True).to(device)"
      ]
    },
    {
      "cell_type": "markdown",
      "metadata": {
        "id": "9mr1sjJ3vUFA"
      },
      "source": [
        "# Обучение"
      ]
    },
    {
      "cell_type": "code",
      "execution_count": null,
      "metadata": {
        "colab": {
          "base_uri": "https://localhost:8080/",
          "height": 81,
          "referenced_widgets": [
            "8174f21a38474d6f89c9f1c10ba23538",
            "c771d98a01814389803cc1c482265633",
            "c773634d5e39402f99e0c701839f4c1f",
            "652c5b626dc247be8dd65a1ee35a5ebc",
            "e7a3bb754adf4f488d2b893feb9787ac",
            "94e00a3135e74538a1e55c5c15035e7f",
            "ffbe2f8dca48433e9d557e61917ef6e6",
            "af0e239201c84d638c1cf10dea4fa7ab",
            "903ba8367f4a47958d58ae2d4ad4a0f0",
            "8d0f4049861247eb937c9cc95904f993",
            "ea58616a8f44443db05eb3d7c9f2a5af",
            "9ccc9c699e4f4d3b96210341c6e2c0d4",
            "dbc6631144a446f298b442ab06cfa696",
            "b0d042a62bc147d39440fd8c698214b0",
            "dd04eb4158f14e70b6d94e7aa37e99ec",
            "cb5f4b34461a42c19b514443d1d9b747",
            "8ed3823d53dd4cdbb48f9d46abb733bf",
            "8f060ac494144547bb1964cb2c13b8ce",
            "67be016cc87d42d286813a08e96c502b",
            "09d511ddf2644360ad46e7f5e98a2a2d",
            "bdbb7e6e2e7f4126b53eb7023f669814",
            "0b390e285a8544b6bd3ad47aaade9bfb"
          ]
        },
        "id": "bYkZrkmrwBI8",
        "outputId": "e7b2f799-db83-4f41-c6d1-49491d72db49"
      },
      "outputs": [
        {
          "data": {
            "application/vnd.jupyter.widget-view+json": {
              "model_id": "8174f21a38474d6f89c9f1c10ba23538",
              "version_major": 2,
              "version_minor": 0
            },
            "text/plain": [
              "Map:   0%|          | 0/720 [00:00<?, ? examples/s]"
            ]
          },
          "metadata": {},
          "output_type": "display_data"
        },
        {
          "data": {
            "application/vnd.jupyter.widget-view+json": {
              "model_id": "9ccc9c699e4f4d3b96210341c6e2c0d4",
              "version_major": 2,
              "version_minor": 0
            },
            "text/plain": [
              "Map:   0%|          | 0/181 [00:00<?, ? examples/s]"
            ]
          },
          "metadata": {},
          "output_type": "display_data"
        }
      ],
      "source": [
        "def tokenize_function(examples):\n",
        "    tokenized = tokenizer(examples[\"text\"], padding=\"max_length\", truncation=True, max_length=128)\n",
        "    tokenized[\"label\"] = [label2id[label] for label in examples[\"label\"]]\n",
        "    return tokenized\n",
        "\n",
        "tokenized_datasets_train = dataset_train.map(\n",
        "    tokenize_function,\n",
        "    batched=True,\n",
        "    remove_columns=[\"text\", \"label\"]\n",
        ")\n",
        "\n",
        "tokenized_datasets_test = dataset_test.map(\n",
        "    tokenize_function,\n",
        "    batched=True,\n",
        "    remove_columns=[\"text\", \"label\"]\n",
        ")"
      ]
    },
    {
      "cell_type": "code",
      "execution_count": null,
      "metadata": {
        "colab": {
          "background_save": true,
          "base_uri": "https://localhost:8080/",
          "height": 262
        },
        "id": "E5WB2Oi8yFsE",
        "outputId": "917a0f93-908f-4063-b376-30b7356b6d12"
      },
      "outputs": [
        {
          "name": "stderr",
          "output_type": "stream",
          "text": [
            "/usr/local/lib/python3.11/dist-packages/transformers/training_args.py:1611: FutureWarning: `evaluation_strategy` is deprecated and will be removed in version 4.46 of 🤗 Transformers. Use `eval_strategy` instead\n",
            "  warnings.warn(\n"
          ]
        },
        {
          "data": {
            "text/html": [
              "\n",
              "    <div>\n",
              "      \n",
              "      <progress value='4500' max='4500' style='width:300px; height:20px; vertical-align: middle;'></progress>\n",
              "      [4500/4500 18:29, Epoch 50/50]\n",
              "    </div>\n",
              "    <table border=\"1\" class=\"dataframe\">\n",
              "  <thead>\n",
              " <tr style=\"text-align: left;\">\n",
              "      <th>Step</th>\n",
              "      <th>Training Loss</th>\n",
              "      <th>Validation Loss</th>\n",
              "      <th>Precision</th>\n",
              "      <th>Recall</th>\n",
              "      <th>F1</th>\n",
              "    </tr>\n",
              "  </thead>\n",
              "  <tbody>\n",
              "    <tr>\n",
              "      <td>1000</td>\n",
              "      <td>0.881700</td>\n",
              "      <td>0.937925</td>\n",
              "      <td>0.601466</td>\n",
              "      <td>0.561201</td>\n",
              "      <td>0.570623</td>\n",
              "    </tr>\n",
              "    <tr>\n",
              "      <td>2000</td>\n",
              "      <td>0.491400</td>\n",
              "      <td>1.090685</td>\n",
              "      <td>0.635075</td>\n",
              "      <td>0.581383</td>\n",
              "      <td>0.592738</td>\n",
              "    </tr>\n",
              "    <tr>\n",
              "      <td>3000</td>\n",
              "      <td>0.427700</td>\n",
              "      <td>0.827385</td>\n",
              "      <td>0.665753</td>\n",
              "      <td>0.671399</td>\n",
              "      <td>0.665272</td>\n",
              "    </tr>\n",
              "    <tr>\n",
              "      <td>4000</td>\n",
              "      <td>0.315200</td>\n",
              "      <td>0.910851</td>\n",
              "      <td>0.665613</td>\n",
              "      <td>0.672187</td>\n",
              "      <td>0.667732</td>\n",
              "    </tr>\n",
              "  </tbody>\n",
              "</table><p>"
            ],
            "text/plain": [
              "<IPython.core.display.HTML object>"
            ]
          },
          "metadata": {},
          "output_type": "display_data"
        },
        {
          "name": "stderr",
          "output_type": "stream",
          "text": [
            "/usr/local/lib/python3.11/dist-packages/sklearn/metrics/_classification.py:1565: UndefinedMetricWarning: Precision is ill-defined and being set to 0.0 in labels with no predicted samples. Use `zero_division` parameter to control this behavior.\n",
            "  _warn_prf(average, modifier, f\"{metric.capitalize()} is\", len(result))\n",
            "/usr/local/lib/python3.11/dist-packages/sklearn/metrics/_classification.py:1565: UndefinedMetricWarning: Precision is ill-defined and being set to 0.0 in labels with no predicted samples. Use `zero_division` parameter to control this behavior.\n",
            "  _warn_prf(average, modifier, f\"{metric.capitalize()} is\", len(result))\n",
            "/usr/local/lib/python3.11/dist-packages/sklearn/metrics/_classification.py:1565: UndefinedMetricWarning: Precision is ill-defined and being set to 0.0 in labels with no predicted samples. Use `zero_division` parameter to control this behavior.\n",
            "  _warn_prf(average, modifier, f\"{metric.capitalize()} is\", len(result))\n",
            "/usr/local/lib/python3.11/dist-packages/sklearn/metrics/_classification.py:1565: UndefinedMetricWarning: Precision is ill-defined and being set to 0.0 in labels with no predicted samples. Use `zero_division` parameter to control this behavior.\n",
            "  _warn_prf(average, modifier, f\"{metric.capitalize()} is\", len(result))\n"
          ]
        },
        {
          "data": {
            "text/html": [
              "\n",
              "    <div>\n",
              "      \n",
              "      <progress value='23' max='23' style='width:300px; height:20px; vertical-align: middle;'></progress>\n",
              "      [23/23 00:01]\n",
              "    </div>\n",
              "    "
            ],
            "text/plain": [
              "<IPython.core.display.HTML object>"
            ]
          },
          "metadata": {},
          "output_type": "display_data"
        },
        {
          "name": "stdout",
          "output_type": "stream",
          "text": [
            "Evaluation Results: {'eval_loss': 0.910851240158081, 'eval_precision': 0.6656126669029895, 'eval_recall': 0.6721874367035657, 'eval_f1': 0.6677317869415808, 'eval_runtime': 1.3594, 'eval_samples_per_second': 133.144, 'eval_steps_per_second': 16.919, 'epoch': 50.0}\n"
          ]
        },
        {
          "name": "stderr",
          "output_type": "stream",
          "text": [
            "/usr/local/lib/python3.11/dist-packages/sklearn/metrics/_classification.py:1565: UndefinedMetricWarning: Precision is ill-defined and being set to 0.0 in labels with no predicted samples. Use `zero_division` parameter to control this behavior.\n",
            "  _warn_prf(average, modifier, f\"{metric.capitalize()} is\", len(result))\n"
          ]
        }
      ],
      "source": [
        "from sklearn.metrics import precision_score, recall_score, f1_score\n",
        "import numpy as np\n",
        "from transformers import Trainer, TrainingArguments, EarlyStoppingCallback\n",
        "\n",
        "# Определяем функцию для расчета метрик\n",
        "def compute_metrics(p):\n",
        "    predictions, labels = p\n",
        "    predictions = np.argmax(predictions, axis=1)\n",
        "\n",
        "    precision = precision_score(labels, predictions, average='macro', labels=np.unique(labels))\n",
        "    recall = recall_score(labels, predictions, average='macro', labels=np.unique(labels))\n",
        "    f1 = f1_score(labels, predictions, average='macro', labels=np.unique(labels))\n",
        "\n",
        "    return {\n",
        "        'precision': precision,\n",
        "        'recall': recall,\n",
        "        'f1': f1\n",
        "    }\n",
        "\n",
        "training_args = TrainingArguments(\n",
        "    output_dir=\"./results\",\n",
        "    evaluation_strategy=\"steps\",\n",
        "    save_strategy=\"steps\",\n",
        "    save_steps=1000,\n",
        "    save_total_limit=3,\n",
        "    load_best_model_at_end=True,\n",
        "    metric_for_best_model=\"f1\",\n",
        "    greater_is_better=True,\n",
        "    num_train_epochs=50,\n",
        "    logging_dir=\"./logs\",\n",
        "    logging_steps=1000,\n",
        ")\n",
        "\n",
        "trainer = Trainer(\n",
        "    model=model,\n",
        "    args=training_args,\n",
        "    train_dataset=tokenized_datasets_train,\n",
        "    eval_dataset=tokenized_datasets_test,\n",
        "    compute_metrics=compute_metrics,\n",
        "    callbacks=[EarlyStoppingCallback(early_stopping_patience=2)],\n",
        ")\n",
        "\n",
        "trainer.train()\n",
        "\n",
        "eval_results = trainer.evaluate()\n",
        "\n",
        "print(f\"Evaluation Results: {eval_results}\")"
      ]
    },
    {
      "cell_type": "markdown",
      "metadata": {
        "id": "nlPmpxrUyJ7l"
      },
      "source": [
        "# Проверка"
      ]
    },
    {
      "cell_type": "code",
      "execution_count": null,
      "metadata": {
        "id": "dJT7PThrJ44q"
      },
      "outputs": [],
      "source": [
        "def convert_labels_to_vector(data, label2id):\n",
        "    return [label2id[item['label']] for item in data]"
      ]
    },
    {
      "cell_type": "code",
      "execution_count": null,
      "metadata": {
        "colab": {
          "base_uri": "https://localhost:8080/"
        },
        "id": "wua6Q9qBD1WI",
        "outputId": "bafb8bb9-9441-46a9-ba8d-3649f4445b67"
      },
      "outputs": [
        {
          "data": {
            "text/plain": [
              "['этот продукт изменит твою жизнь — жми сюда',\n",
              " 'И это тоже. В зависимости от стиля программирования concurrency подобные \"императивные\" проблемы могут возникать реже.',\n",
              " 'мне очень понравился интерфейс — всё просто',\n",
              " \"Кнопка 'отправить' неактивна\",\n",
              " 'что-нибудь делал сегодня?',\n",
              " 'Если бы можно было односложно, то я бы не рассказывал 3 часа (',\n",
              " 'По каким критериям отбираются студенты на курс, если порог превышен?',\n",
              " 'Свой стд лок не будем писать для произвольного числа аргументов?)',\n",
              " 'Привет, давай поболтаем!',\n",
              " 'Слишком мелкий шрифт в мобильной версии сайта.',\n",
              " 'Вопрос, есть предметы по выбору, они очные (пешочком ходить надо)?',\n",
              " 'Какой адрес у нового офиса?',\n",
              " 'Где оставить документы?',\n",
              " 'https://spam.link',\n",
              " 'Заработай на просмотре рекламы — плати за интернет просмотром',\n",
              " 'Ваш номер выбран для получения приза. Подробности по ссылке.',\n",
              " 'Почему мой профиль не обновляется?',\n",
              " 'не получается привязать почту',\n",
              " 'думаю, стоит взять выходной',\n",
              " 'прикинь, вчера свет вырубили',\n",
              " 'Когда будет следующий поток курса?',\n",
              " '🔐 вы были выбраны для участия в закрытом тесте. ссылка внутри.',\n",
              " 'Сайт постоянно падает – что делать?',\n",
              " 'сижу с чаем и слушаю музыку',\n",
              " 'А можно ли сдать задание по Python позже, если не успел до дедлайна?',\n",
              " 'отличный продукт, рекомендую друзьям',\n",
              " 'после обновления приложение не запускается',\n",
              " 'Доброго времени суток, расскажи, что новенького!',\n",
              " 'Внимание! Ваш аккаунт нарушает правила. Перейдите по ссылке!',\n",
              " 'Но для этого нам еще нужно некоторое количество задач решить',\n",
              " 'Ваша команда делает потрясающую работу.',\n",
              " 'Это написано в инструкции по ci, которую нужно прочитать в репозитории',\n",
              " 'Так что пока наш приоритет – корректность',\n",
              " 'После третьего пойдём писать свой Linux с нуля?)',\n",
              " 'Браузер зависает на странице оплаты.',\n",
              " 'Привет, как дела?',\n",
              " 'приятно пользоваться этим сервисом',\n",
              " 'Всем привет!\\n🔥Открываем запись на интенсив «Построение эффективных систем хранения больших данных на платформе YTsaurus»🔥\\nИнтенсив можно слушать или сдавать; при сдаче засчитывается за полусеместровый курс.\\n\\nС 21 по 25 апреля вас ждут 8 занятий, на которых вы:\\n ✅ познакомитесь с YTsaurus — платформой, которую используют в сервисах Яндекса;\\n ✅ разберётесь в архитектуре и настройке распределённых систем хранения данных;\\n ✅ узнаете, как YTsaurus применяется в реальных проектах.\\n\\n📌Запись на курс в LMS уже открыта, успевайте до 25 апреля!',\n",
              " 'а чё никто не отвечает?',\n",
              " 'Кэшбек 100%! Плати — и получай назад!',\n",
              " 'Добавьте, пожалуйста, возможность менять язык интерфейса.',\n",
              " 'Звук на видео местами пропадает',\n",
              " 'Такие же, это же они и есть',\n",
              " 'ТОП-акция! Успейте купить новейший гаджет по скидке 40%.',\n",
              " '🏆 Вы прошли отбор и приглашены на конкурс!',\n",
              " 'качество выше ожиданий',\n",
              " '🌟 САМАЯ ЛУЧШАЯ РЕКЛАМА ЗДЕСЬ 🌟',\n",
              " 'Нужно установить Lipovsky',\n",
              " 'А она сама создастся при билде cmake',\n",
              " 'Привет!\\n\\nНапоминаем, что 25 марта — последний день, когда можно отписаться от курса зимнего триместра (через форму: https://forms.yandex.ru/surveys/13732411.bf41f16030dc2a307689b3df114a410fb23cfd2c/)\\n\\nПозже будет нельзя. После этого момента все «хвосты» по зимним курсам (незданные работы, невыданные зачёты и прочее) будут переходить в академические долги ❄️',\n",
              " 'Как тогда сдавать зачёты, экзамены, диплом онлайн, как тогда прокачивать soft скилы?',\n",
              " 'Когда дедлайн по проекту?',\n",
              " 'ну я на ней был и слушал, просто правда не вынес для себя идею конечного продукта. тут можно односложно.',\n",
              " 'Тоже мне новость',\n",
              " 'Попробуй симлинк сделать clangd-12 -> clangd',\n",
              " '🏆 Участвуйте в конкурсе и выигрывайте призы каждый день',\n",
              " 'спасибо буду дудосить',\n",
              " 'Что делать, если не запускается ноутбук в Jupyter?',\n",
              " 'Очень рад, что выбрал именно ваш сервис!',\n",
              " 'Подскажите, пожалуйста, может ли быть такое, что если подать документы ближе к концу срока подачи документов по первой волне конкурса портфолио, то будет меньше шансов поступить ?',\n",
              " 'Ограниченное предложение — специальная цена для новых клиентов!',\n",
              " 'В канале курса в pinned message есть все ссылки )',\n",
              " 'Эта программа изначально именно онлайн- программа. Полностью. Мы это не скрываем и только подчеркиваем :)\\n\\nЕсли Вы предпочитаете офлайн обучение, в рамках нашего факультета (ИПКН) есть много офлайн программ, где мы будем рады учить вас вживую ☺️',\n",
              " 'При нажатии ничего не происходит',\n",
              " 'быстрая доставка, всё как обещали',\n",
              " 'Проблемы с доступом к материалам',\n",
              " 'заодно разберешься один раз что там происходит (я предпочел оставить этот удивительный квест на завтра)',\n",
              " 'Ну ты понял короче',\n",
              " 'Могут ли администраторы видеть мои личные сообщения?',\n",
              " 'Подозрительная активность в аккаунте, как сменить пароль?',\n",
              " 'А если кто зашел в мэнитаск, подскажите какие там дедлайны',\n",
              " 'Тебя добавили в закрытую группу! Открой доступ: http://scam.net/join',\n",
              " 'САМАЯ ЛУЧШАЯ РЕКЛАМА ЗДЕСЬ',\n",
              " 'я не уверен что имя ключа имеет значение, тк у меня ключи для серваков названы чуть ли не именами покемонов и все ок.',\n",
              " 'при регистрации выдаёт ошибку',\n",
              " 'Что делать, если не приходит подтверждение по e-mail?',\n",
              " 'Хах, жизненно',\n",
              " 'Как подключить двухфакторную аутентификацию?',\n",
              " 'вероятность получить ответ в 12 ночи выше ччем в 7 или 8 утра',\n",
              " 'Шире чем 3 часа я пожалуй не готов )',\n",
              " 'что-то не могу собраться с мыслями',\n",
              " 'А через какой срок после лекции будут выходить записи?',\n",
              " 'Читал, но думал из-за слова положим там число для примера просто',\n",
              " 'а у тебя как день прошёл?',\n",
              " 'Материал изложен чётко и последовательно',\n",
              " 'Такие же, это же они и есть',\n",
              " 'А когда примерно кураторы ответят?',\n",
              " 'Где можно найти шаблон отчёта?',\n",
              " 'ну это спорное утверждение, деньги то откуда брать?)',\n",
              " 'Прекрасная работа, всё понятно и доступно',\n",
              " 'также было, пока не пофиксил.',\n",
              " 'Читать и решать нужно только те задачи, которые открыты в Manytask',\n",
              " \"Пишет 'недостаточно прав'\",\n",
              " 'Послезавтра же',\n",
              " 'а давай просто поболтаем',\n",
              " 'Понял, благодарю Вас!',\n",
              " 'Спасибо за обратную связь по заданиям',\n",
              " 'Дистанционные технологии? Интересно',\n",
              " 'срочно! вы можете потерять бонус, если не подтвердите',\n",
              " 'Всем привет!\\n\\n1 апреля — не только день смеха и математиков, но и наш важный дедлайн 🔥\\n\\n💥 В этот понедельник закроется регистрация на курсы весеннего триместра. До 1 апреля включительно вам нужно:\\n1️⃣ выбрать все курсы, которые вы хотите сдавать;\\n2️⃣ определиться со всеми курсами, которые вы хотите слушать.\\n\\nПозже зарегистрироваться будет нельзя — ни на сдачу, ни на слушание. Успейте сделать выбор! ✨',\n",
              " 'нет',\n",
              " 'я выше писал запусти create потом попробуй login',\n",
              " 'Было весело, но не очень',\n",
              " '🚀 Автоматическая система заработка — ничего делать не нужно!',\n",
              " 'К прошлому вопросу тоже немного подцеплюсь, а есть какой-то способ кроме как оценки производительности оценивать выигрыш от разных примитивов, т.е. например в go есть несколько способов сделать потоко безопасную маппу\\n1) через мьютекс\\n2) через rw мьютекс \\n3) через локфри \\n\\nЕсть ли не эмпирический способ понять какой из вариантов лучше работает под определеную ситуацию',\n",
              " 'После первого занятия полезным будет посмотреть на разные языки и фреймворки, выучить go / rust / haskell, посмотреть на twist',\n",
              " 'операторы * и -> по большому счету мало чем отличаются. Так-то можно при желании .operator->() позвать и словить то же самое',\n",
              " 'Когда обеденный перерыв?',\n",
              " 'Все на первой странице сайта данного направления',\n",
              " 'Не могу войти — пишет, что пароль неверный, хотя точно правильный.',\n",
              " 'Почему у меня не принимается решение на платформе?',\n",
              " 'Ну в ИТМО же есть куча других программ, которые очные и не дистанционные)',\n",
              " 'Увидимся завтра?',\n",
              " 'Как быстро проверяют домашние задания?',\n",
              " 'Где найти примеры кода из последней лекции?',\n",
              " 'signup делал?',\n",
              " 'Слишком много воды в лекциях',\n",
              " 'спасибо, что учли мои пожелания!',\n",
              " 'выглядит профессионально, молодцы',\n",
              " 'Ты кстати поел?',\n",
              " 'была задача вызвать дедлок на одном потоке',\n",
              " 'Мне очень нравится ваше приложение!',\n",
              " 'а как мне отменить подписку?',\n",
              " 'Всё отлично, моя благодарность безгранична.',\n",
              " 'не удаётся войти в аккаунт — пишет «неверный пароль»',\n",
              " 'Вы были выбраны для участия в акции. Получите подарок здесь.',\n",
              " 'Ясно, что именно так минимально опытный человек писать не будет. Но и абстракция Mutexed как будто тоже призвана защитить от глупых ошибок и избавить от лишних размышлениях о владении',\n",
              " 'Пошёл пить чай',\n",
              " 'логичный ответ, спасибо.',\n",
              " 'Как добраться до офиса?',\n",
              " 'Сложно ориентироваться в платформе',\n",
              " 'Невероятная сделка, жми скорее!',\n",
              " 'ага',\n",
              " 'Где-то написано, почему в задаче mutex PrepareWake надо вызывать до модификаций атомика?\\n\\nКажется это просто взять адрес инта без всяких сайд эффектов (?)',\n",
              " 'Какие требования к оформлению?',\n",
              " 'Спасибо за наводку)',\n",
              " 'Курс интересный, но не хватает практики.',\n",
              " 'Ваш e-mail выбран для получения бонуса! Нажмите для получения.',\n",
              " 'Да',\n",
              " 'за окном пасмурно',\n",
              " 'Прекрасное приложение – удобное и интуитивно понятное.',\n",
              " 'Ваш e-mail выиграл в лотерее! Заберите приз сейчас.',\n",
              " 'На нашей программе нет сквозного трека магистратуры-аспирантура, но вы может после нашей магистратуры поступить в нашу же аспирантуру по общему конкурсу. Например, если на защите диплома комиссия выделит ваш диплом как один из лучших, это даст возможность поступить в аспирантуру без экзаменов :)',\n",
              " 'Поздравляем! Вы выиграли поездку на Мальдивы. Подробнее здесь.',\n",
              " 'Спасибо за оперативный ответ в поддержку!',\n",
              " 'спасибо огромное всем-всем!!!',\n",
              " 'Вы стали победителем лотереи! Заберите свой приз, нажав на ссылку.',\n",
              " 'Сейчас вот у меня получилось зарегатьтся',\n",
              " 'И тут я осознал...',\n",
              " 'Акция месяца: эксклюзивные скидки специально для вас!',\n",
              " 'В твоем примере намерение уже тоже нужно)',\n",
              " 'Форма обратной связи не отправляется.']"
            ]
          },
          "execution_count": 236,
          "metadata": {},
          "output_type": "execute_result"
        }
      ],
      "source": [
        "test_data_arr"
      ]
    },
    {
      "cell_type": "code",
      "execution_count": null,
      "metadata": {
        "id": "tmR2IsxmOpTO"
      },
      "outputs": [],
      "source": [
        "y_test = convert_labels_to_vector(test_data, label2id)"
      ]
    },
    {
      "cell_type": "code",
      "execution_count": null,
      "metadata": {
        "id": "l7oKQDJMPKOT"
      },
      "outputs": [],
      "source": [
        "from sklearn.metrics import accuracy_score, precision_score, recall_score"
      ]
    },
    {
      "cell_type": "code",
      "execution_count": null,
      "metadata": {
        "colab": {
          "base_uri": "https://localhost:8080/"
        },
        "id": "CZkd23Y4QBQX",
        "outputId": "85b9ecc3-2d50-4064-b68f-029e1694bca3"
      },
      "outputs": [
        {
          "data": {
            "text/plain": [
              "{'SPAM': 0, 'QUESTION': 1, 'FEEDBACK': 2, 'CHAT': 3, 'IMPORTANT': 4}"
            ]
          },
          "execution_count": 239,
          "metadata": {},
          "output_type": "execute_result"
        }
      ],
      "source": [
        "label2id"
      ]
    },
    {
      "cell_type": "code",
      "execution_count": null,
      "metadata": {
        "colab": {
          "base_uri": "https://localhost:8080/"
        },
        "id": "jRwfUyeTv3Pr",
        "outputId": "96554fdb-d10f-4bbf-ad2b-3a1a49619509"
      },
      "outputs": [
        {
          "name": "stderr",
          "output_type": "stream",
          "text": [
            "Device set to use cuda:0\n"
          ]
        }
      ],
      "source": [
        "classifier = pipeline(\n",
        "    \"text-classification\",\n",
        "    model=model,\n",
        "    tokenizer=tokenizer\n",
        ")\n",
        "\n",
        "y_pred = []\n",
        "for text in test_data_arr:\n",
        "    result = classifier(text)\n",
        "    y_pred.append(label2id[result[0]['label']])\n",
        "    #print(f\"Текст: {text[:30]}... | Класс: {result[0]['label']}\")"
      ]
    },
    {
      "cell_type": "code",
      "execution_count": null,
      "metadata": {
        "colab": {
          "base_uri": "https://localhost:8080/"
        },
        "id": "MJhvEkVBO6bT",
        "outputId": "c6ed49bc-2c46-45c5-9281-624952162d30"
      },
      "outputs": [
        {
          "data": {
            "text/plain": [
              "0.7828947368421053"
            ]
          },
          "execution_count": 241,
          "metadata": {},
          "output_type": "execute_result"
        }
      ],
      "source": [
        "accuracy_score(y_test, y_pred)"
      ]
    },
    {
      "cell_type": "code",
      "execution_count": null,
      "metadata": {
        "colab": {
          "base_uri": "https://localhost:8080/"
        },
        "id": "GLthEkiiPSq9",
        "outputId": "e7e32cf8-1b16-4948-9c0e-13ae5a5ab8d8"
      },
      "outputs": [
        {
          "data": {
            "text/plain": [
              "(0.9, 0.782608695652174)"
            ]
          },
          "execution_count": 242,
          "metadata": {},
          "output_type": "execute_result"
        }
      ],
      "source": [
        "precision_class_SPAM = precision_score(y_test, y_pred, labels=[0], average='micro')\n",
        "recall_class_SPAM = recall_score(y_test, y_pred, labels=[0], average='micro')\n",
        "precision_class_SPAM, recall_class_SPAM"
      ]
    },
    {
      "cell_type": "code",
      "execution_count": null,
      "metadata": {
        "colab": {
          "base_uri": "https://localhost:8080/"
        },
        "id": "yXnqLeNaQJEc",
        "outputId": "651b0c8a-d986-407e-9700-badf7d529696"
      },
      "outputs": [
        {
          "data": {
            "text/plain": [
              "(0.7391304347826086, 0.8095238095238095)"
            ]
          },
          "execution_count": 243,
          "metadata": {},
          "output_type": "execute_result"
        }
      ],
      "source": [
        "precision_class_QUESTION = precision_score(y_test, y_pred, labels=[1], average='micro')\n",
        "recall_class_QUESTION = recall_score(y_test, y_pred, labels=[1], average='micro')\n",
        "precision_class_QUESTION, recall_class_QUESTION"
      ]
    },
    {
      "cell_type": "code",
      "execution_count": null,
      "metadata": {
        "colab": {
          "base_uri": "https://localhost:8080/"
        },
        "id": "qcodbWuSQNnt",
        "outputId": "51ca0655-dda5-4b56-f0e6-73d2d8674424"
      },
      "outputs": [
        {
          "data": {
            "text/plain": [
              "(0.8636363636363636, 0.76)"
            ]
          },
          "execution_count": 244,
          "metadata": {},
          "output_type": "execute_result"
        }
      ],
      "source": [
        "precision_class_FEEDBACK = precision_score(y_test, y_pred, labels=[2], average='micro')\n",
        "recall_class_FEEDBACK = recall_score(y_test, y_pred, labels=[2], average='micro')\n",
        "precision_class_FEEDBACK, recall_class_FEEDBACK"
      ]
    },
    {
      "cell_type": "code",
      "execution_count": null,
      "metadata": {
        "colab": {
          "base_uri": "https://localhost:8080/"
        },
        "id": "-vRG-ICZQrPV",
        "outputId": "a0a2aa57-eb29-4845-e1e9-52b157526cb6"
      },
      "outputs": [
        {
          "data": {
            "text/plain": [
              "(0.7796610169491526, 0.7796610169491526)"
            ]
          },
          "execution_count": 245,
          "metadata": {},
          "output_type": "execute_result"
        }
      ],
      "source": [
        "precision_class_CHAT = precision_score(y_test, y_pred, labels=[3], average='micro')\n",
        "recall_class_CHAT = recall_score(y_test, y_pred, labels=[3], average='micro')\n",
        "precision_class_CHAT, recall_class_CHAT"
      ]
    },
    {
      "cell_type": "code",
      "execution_count": null,
      "metadata": {
        "colab": {
          "base_uri": "https://localhost:8080/"
        },
        "id": "KYj00wOWgdG2",
        "outputId": "03c5abac-592e-4ddd-e568-307b70bd2d54"
      },
      "outputs": [
        {
          "data": {
            "text/plain": [
              "(0.4, 0.6666666666666666)"
            ]
          },
          "execution_count": 246,
          "metadata": {},
          "output_type": "execute_result"
        }
      ],
      "source": [
        "precision_class_IMPORTANT = precision_score(y_test, y_pred, labels=[4], average='micro')\n",
        "recall_class_IMPORTANT = recall_score(y_test, y_pred, labels=[4], average='micro')\n",
        "precision_class_IMPORTANT, recall_class_IMPORTANT"
      ]
    },
    {
      "cell_type": "code",
      "execution_count": null,
      "metadata": {
        "colab": {
          "base_uri": "https://localhost:8080/"
        },
        "id": "XKkm2PTegU1t",
        "outputId": "42a7827c-a769-4aec-e6b9-379557695740"
      },
      "outputs": [
        {
          "data": {
            "text/plain": [
              "(0.736485563073625, 0.7596920377583606, 0.7396216460599758)"
            ]
          },
          "execution_count": 248,
          "metadata": {},
          "output_type": "execute_result"
        }
      ],
      "source": [
        "precision = precision_score(y_test, y_pred, average='macro', labels=[0,1,2,3,4])\n",
        "recall = recall_score(y_test, y_pred, average='macro', labels=[0,1,2,3,4])\n",
        "f1 = f1_score(y_test, y_pred, average='macro', labels=[0,1,2,3,4])\n",
        "precision, recall, f1"
      ]
    },
    {
      "cell_type": "code",
      "execution_count": null,
      "metadata": {
        "id": "vMrWYilpgjKz"
      },
      "outputs": [],
      "source": []
    }
  ],
  "metadata": {
    "colab": {
      "provenance": []
    },
    "kernelspec": {
      "display_name": "Python 3",
      "name": "python3"
    },
    "language_info": {
      "codemirror_mode": {
        "name": "ipython",
        "version": 3
      },
      "file_extension": ".py",
      "mimetype": "text/x-python",
      "name": "python",
      "nbconvert_exporter": "python",
      "pygments_lexer": "ipython3",
      "version": "3.9.13"
    },
    "widgets": {
      "application/vnd.jupyter.widget-state+json": {
        "09d511ddf2644360ad46e7f5e98a2a2d": {
          "model_module": "@jupyter-widgets/controls",
          "model_module_version": "1.5.0",
          "model_name": "ProgressStyleModel",
          "state": {
            "_model_module": "@jupyter-widgets/controls",
            "_model_module_version": "1.5.0",
            "_model_name": "ProgressStyleModel",
            "_view_count": null,
            "_view_module": "@jupyter-widgets/base",
            "_view_module_version": "1.2.0",
            "_view_name": "StyleView",
            "bar_color": null,
            "description_width": ""
          }
        },
        "0b390e285a8544b6bd3ad47aaade9bfb": {
          "model_module": "@jupyter-widgets/controls",
          "model_module_version": "1.5.0",
          "model_name": "DescriptionStyleModel",
          "state": {
            "_model_module": "@jupyter-widgets/controls",
            "_model_module_version": "1.5.0",
            "_model_name": "DescriptionStyleModel",
            "_view_count": null,
            "_view_module": "@jupyter-widgets/base",
            "_view_module_version": "1.2.0",
            "_view_name": "StyleView",
            "description_width": ""
          }
        },
        "652c5b626dc247be8dd65a1ee35a5ebc": {
          "model_module": "@jupyter-widgets/controls",
          "model_module_version": "1.5.0",
          "model_name": "HTMLModel",
          "state": {
            "_dom_classes": [],
            "_model_module": "@jupyter-widgets/controls",
            "_model_module_version": "1.5.0",
            "_model_name": "HTMLModel",
            "_view_count": null,
            "_view_module": "@jupyter-widgets/controls",
            "_view_module_version": "1.5.0",
            "_view_name": "HTMLView",
            "description": "",
            "description_tooltip": null,
            "layout": "IPY_MODEL_8d0f4049861247eb937c9cc95904f993",
            "placeholder": "​",
            "style": "IPY_MODEL_ea58616a8f44443db05eb3d7c9f2a5af",
            "value": " 720/720 [00:00&lt;00:00, 4176.91 examples/s]"
          }
        },
        "67be016cc87d42d286813a08e96c502b": {
          "model_module": "@jupyter-widgets/base",
          "model_module_version": "1.2.0",
          "model_name": "LayoutModel",
          "state": {
            "_model_module": "@jupyter-widgets/base",
            "_model_module_version": "1.2.0",
            "_model_name": "LayoutModel",
            "_view_count": null,
            "_view_module": "@jupyter-widgets/base",
            "_view_module_version": "1.2.0",
            "_view_name": "LayoutView",
            "align_content": null,
            "align_items": null,
            "align_self": null,
            "border": null,
            "bottom": null,
            "display": null,
            "flex": null,
            "flex_flow": null,
            "grid_area": null,
            "grid_auto_columns": null,
            "grid_auto_flow": null,
            "grid_auto_rows": null,
            "grid_column": null,
            "grid_gap": null,
            "grid_row": null,
            "grid_template_areas": null,
            "grid_template_columns": null,
            "grid_template_rows": null,
            "height": null,
            "justify_content": null,
            "justify_items": null,
            "left": null,
            "margin": null,
            "max_height": null,
            "max_width": null,
            "min_height": null,
            "min_width": null,
            "object_fit": null,
            "object_position": null,
            "order": null,
            "overflow": null,
            "overflow_x": null,
            "overflow_y": null,
            "padding": null,
            "right": null,
            "top": null,
            "visibility": null,
            "width": null
          }
        },
        "8174f21a38474d6f89c9f1c10ba23538": {
          "model_module": "@jupyter-widgets/controls",
          "model_module_version": "1.5.0",
          "model_name": "HBoxModel",
          "state": {
            "_dom_classes": [],
            "_model_module": "@jupyter-widgets/controls",
            "_model_module_version": "1.5.0",
            "_model_name": "HBoxModel",
            "_view_count": null,
            "_view_module": "@jupyter-widgets/controls",
            "_view_module_version": "1.5.0",
            "_view_name": "HBoxView",
            "box_style": "",
            "children": [
              "IPY_MODEL_c771d98a01814389803cc1c482265633",
              "IPY_MODEL_c773634d5e39402f99e0c701839f4c1f",
              "IPY_MODEL_652c5b626dc247be8dd65a1ee35a5ebc"
            ],
            "layout": "IPY_MODEL_e7a3bb754adf4f488d2b893feb9787ac"
          }
        },
        "8d0f4049861247eb937c9cc95904f993": {
          "model_module": "@jupyter-widgets/base",
          "model_module_version": "1.2.0",
          "model_name": "LayoutModel",
          "state": {
            "_model_module": "@jupyter-widgets/base",
            "_model_module_version": "1.2.0",
            "_model_name": "LayoutModel",
            "_view_count": null,
            "_view_module": "@jupyter-widgets/base",
            "_view_module_version": "1.2.0",
            "_view_name": "LayoutView",
            "align_content": null,
            "align_items": null,
            "align_self": null,
            "border": null,
            "bottom": null,
            "display": null,
            "flex": null,
            "flex_flow": null,
            "grid_area": null,
            "grid_auto_columns": null,
            "grid_auto_flow": null,
            "grid_auto_rows": null,
            "grid_column": null,
            "grid_gap": null,
            "grid_row": null,
            "grid_template_areas": null,
            "grid_template_columns": null,
            "grid_template_rows": null,
            "height": null,
            "justify_content": null,
            "justify_items": null,
            "left": null,
            "margin": null,
            "max_height": null,
            "max_width": null,
            "min_height": null,
            "min_width": null,
            "object_fit": null,
            "object_position": null,
            "order": null,
            "overflow": null,
            "overflow_x": null,
            "overflow_y": null,
            "padding": null,
            "right": null,
            "top": null,
            "visibility": null,
            "width": null
          }
        },
        "8ed3823d53dd4cdbb48f9d46abb733bf": {
          "model_module": "@jupyter-widgets/base",
          "model_module_version": "1.2.0",
          "model_name": "LayoutModel",
          "state": {
            "_model_module": "@jupyter-widgets/base",
            "_model_module_version": "1.2.0",
            "_model_name": "LayoutModel",
            "_view_count": null,
            "_view_module": "@jupyter-widgets/base",
            "_view_module_version": "1.2.0",
            "_view_name": "LayoutView",
            "align_content": null,
            "align_items": null,
            "align_self": null,
            "border": null,
            "bottom": null,
            "display": null,
            "flex": null,
            "flex_flow": null,
            "grid_area": null,
            "grid_auto_columns": null,
            "grid_auto_flow": null,
            "grid_auto_rows": null,
            "grid_column": null,
            "grid_gap": null,
            "grid_row": null,
            "grid_template_areas": null,
            "grid_template_columns": null,
            "grid_template_rows": null,
            "height": null,
            "justify_content": null,
            "justify_items": null,
            "left": null,
            "margin": null,
            "max_height": null,
            "max_width": null,
            "min_height": null,
            "min_width": null,
            "object_fit": null,
            "object_position": null,
            "order": null,
            "overflow": null,
            "overflow_x": null,
            "overflow_y": null,
            "padding": null,
            "right": null,
            "top": null,
            "visibility": null,
            "width": null
          }
        },
        "8f060ac494144547bb1964cb2c13b8ce": {
          "model_module": "@jupyter-widgets/controls",
          "model_module_version": "1.5.0",
          "model_name": "DescriptionStyleModel",
          "state": {
            "_model_module": "@jupyter-widgets/controls",
            "_model_module_version": "1.5.0",
            "_model_name": "DescriptionStyleModel",
            "_view_count": null,
            "_view_module": "@jupyter-widgets/base",
            "_view_module_version": "1.2.0",
            "_view_name": "StyleView",
            "description_width": ""
          }
        },
        "903ba8367f4a47958d58ae2d4ad4a0f0": {
          "model_module": "@jupyter-widgets/controls",
          "model_module_version": "1.5.0",
          "model_name": "ProgressStyleModel",
          "state": {
            "_model_module": "@jupyter-widgets/controls",
            "_model_module_version": "1.5.0",
            "_model_name": "ProgressStyleModel",
            "_view_count": null,
            "_view_module": "@jupyter-widgets/base",
            "_view_module_version": "1.2.0",
            "_view_name": "StyleView",
            "bar_color": null,
            "description_width": ""
          }
        },
        "94e00a3135e74538a1e55c5c15035e7f": {
          "model_module": "@jupyter-widgets/base",
          "model_module_version": "1.2.0",
          "model_name": "LayoutModel",
          "state": {
            "_model_module": "@jupyter-widgets/base",
            "_model_module_version": "1.2.0",
            "_model_name": "LayoutModel",
            "_view_count": null,
            "_view_module": "@jupyter-widgets/base",
            "_view_module_version": "1.2.0",
            "_view_name": "LayoutView",
            "align_content": null,
            "align_items": null,
            "align_self": null,
            "border": null,
            "bottom": null,
            "display": null,
            "flex": null,
            "flex_flow": null,
            "grid_area": null,
            "grid_auto_columns": null,
            "grid_auto_flow": null,
            "grid_auto_rows": null,
            "grid_column": null,
            "grid_gap": null,
            "grid_row": null,
            "grid_template_areas": null,
            "grid_template_columns": null,
            "grid_template_rows": null,
            "height": null,
            "justify_content": null,
            "justify_items": null,
            "left": null,
            "margin": null,
            "max_height": null,
            "max_width": null,
            "min_height": null,
            "min_width": null,
            "object_fit": null,
            "object_position": null,
            "order": null,
            "overflow": null,
            "overflow_x": null,
            "overflow_y": null,
            "padding": null,
            "right": null,
            "top": null,
            "visibility": null,
            "width": null
          }
        },
        "9ccc9c699e4f4d3b96210341c6e2c0d4": {
          "model_module": "@jupyter-widgets/controls",
          "model_module_version": "1.5.0",
          "model_name": "HBoxModel",
          "state": {
            "_dom_classes": [],
            "_model_module": "@jupyter-widgets/controls",
            "_model_module_version": "1.5.0",
            "_model_name": "HBoxModel",
            "_view_count": null,
            "_view_module": "@jupyter-widgets/controls",
            "_view_module_version": "1.5.0",
            "_view_name": "HBoxView",
            "box_style": "",
            "children": [
              "IPY_MODEL_dbc6631144a446f298b442ab06cfa696",
              "IPY_MODEL_b0d042a62bc147d39440fd8c698214b0",
              "IPY_MODEL_dd04eb4158f14e70b6d94e7aa37e99ec"
            ],
            "layout": "IPY_MODEL_cb5f4b34461a42c19b514443d1d9b747"
          }
        },
        "af0e239201c84d638c1cf10dea4fa7ab": {
          "model_module": "@jupyter-widgets/base",
          "model_module_version": "1.2.0",
          "model_name": "LayoutModel",
          "state": {
            "_model_module": "@jupyter-widgets/base",
            "_model_module_version": "1.2.0",
            "_model_name": "LayoutModel",
            "_view_count": null,
            "_view_module": "@jupyter-widgets/base",
            "_view_module_version": "1.2.0",
            "_view_name": "LayoutView",
            "align_content": null,
            "align_items": null,
            "align_self": null,
            "border": null,
            "bottom": null,
            "display": null,
            "flex": null,
            "flex_flow": null,
            "grid_area": null,
            "grid_auto_columns": null,
            "grid_auto_flow": null,
            "grid_auto_rows": null,
            "grid_column": null,
            "grid_gap": null,
            "grid_row": null,
            "grid_template_areas": null,
            "grid_template_columns": null,
            "grid_template_rows": null,
            "height": null,
            "justify_content": null,
            "justify_items": null,
            "left": null,
            "margin": null,
            "max_height": null,
            "max_width": null,
            "min_height": null,
            "min_width": null,
            "object_fit": null,
            "object_position": null,
            "order": null,
            "overflow": null,
            "overflow_x": null,
            "overflow_y": null,
            "padding": null,
            "right": null,
            "top": null,
            "visibility": null,
            "width": null
          }
        },
        "b0d042a62bc147d39440fd8c698214b0": {
          "model_module": "@jupyter-widgets/controls",
          "model_module_version": "1.5.0",
          "model_name": "FloatProgressModel",
          "state": {
            "_dom_classes": [],
            "_model_module": "@jupyter-widgets/controls",
            "_model_module_version": "1.5.0",
            "_model_name": "FloatProgressModel",
            "_view_count": null,
            "_view_module": "@jupyter-widgets/controls",
            "_view_module_version": "1.5.0",
            "_view_name": "ProgressView",
            "bar_style": "success",
            "description": "",
            "description_tooltip": null,
            "layout": "IPY_MODEL_67be016cc87d42d286813a08e96c502b",
            "max": 181,
            "min": 0,
            "orientation": "horizontal",
            "style": "IPY_MODEL_09d511ddf2644360ad46e7f5e98a2a2d",
            "value": 181
          }
        },
        "bdbb7e6e2e7f4126b53eb7023f669814": {
          "model_module": "@jupyter-widgets/base",
          "model_module_version": "1.2.0",
          "model_name": "LayoutModel",
          "state": {
            "_model_module": "@jupyter-widgets/base",
            "_model_module_version": "1.2.0",
            "_model_name": "LayoutModel",
            "_view_count": null,
            "_view_module": "@jupyter-widgets/base",
            "_view_module_version": "1.2.0",
            "_view_name": "LayoutView",
            "align_content": null,
            "align_items": null,
            "align_self": null,
            "border": null,
            "bottom": null,
            "display": null,
            "flex": null,
            "flex_flow": null,
            "grid_area": null,
            "grid_auto_columns": null,
            "grid_auto_flow": null,
            "grid_auto_rows": null,
            "grid_column": null,
            "grid_gap": null,
            "grid_row": null,
            "grid_template_areas": null,
            "grid_template_columns": null,
            "grid_template_rows": null,
            "height": null,
            "justify_content": null,
            "justify_items": null,
            "left": null,
            "margin": null,
            "max_height": null,
            "max_width": null,
            "min_height": null,
            "min_width": null,
            "object_fit": null,
            "object_position": null,
            "order": null,
            "overflow": null,
            "overflow_x": null,
            "overflow_y": null,
            "padding": null,
            "right": null,
            "top": null,
            "visibility": null,
            "width": null
          }
        },
        "c771d98a01814389803cc1c482265633": {
          "model_module": "@jupyter-widgets/controls",
          "model_module_version": "1.5.0",
          "model_name": "HTMLModel",
          "state": {
            "_dom_classes": [],
            "_model_module": "@jupyter-widgets/controls",
            "_model_module_version": "1.5.0",
            "_model_name": "HTMLModel",
            "_view_count": null,
            "_view_module": "@jupyter-widgets/controls",
            "_view_module_version": "1.5.0",
            "_view_name": "HTMLView",
            "description": "",
            "description_tooltip": null,
            "layout": "IPY_MODEL_94e00a3135e74538a1e55c5c15035e7f",
            "placeholder": "​",
            "style": "IPY_MODEL_ffbe2f8dca48433e9d557e61917ef6e6",
            "value": "Map: 100%"
          }
        },
        "c773634d5e39402f99e0c701839f4c1f": {
          "model_module": "@jupyter-widgets/controls",
          "model_module_version": "1.5.0",
          "model_name": "FloatProgressModel",
          "state": {
            "_dom_classes": [],
            "_model_module": "@jupyter-widgets/controls",
            "_model_module_version": "1.5.0",
            "_model_name": "FloatProgressModel",
            "_view_count": null,
            "_view_module": "@jupyter-widgets/controls",
            "_view_module_version": "1.5.0",
            "_view_name": "ProgressView",
            "bar_style": "success",
            "description": "",
            "description_tooltip": null,
            "layout": "IPY_MODEL_af0e239201c84d638c1cf10dea4fa7ab",
            "max": 720,
            "min": 0,
            "orientation": "horizontal",
            "style": "IPY_MODEL_903ba8367f4a47958d58ae2d4ad4a0f0",
            "value": 720
          }
        },
        "cb5f4b34461a42c19b514443d1d9b747": {
          "model_module": "@jupyter-widgets/base",
          "model_module_version": "1.2.0",
          "model_name": "LayoutModel",
          "state": {
            "_model_module": "@jupyter-widgets/base",
            "_model_module_version": "1.2.0",
            "_model_name": "LayoutModel",
            "_view_count": null,
            "_view_module": "@jupyter-widgets/base",
            "_view_module_version": "1.2.0",
            "_view_name": "LayoutView",
            "align_content": null,
            "align_items": null,
            "align_self": null,
            "border": null,
            "bottom": null,
            "display": null,
            "flex": null,
            "flex_flow": null,
            "grid_area": null,
            "grid_auto_columns": null,
            "grid_auto_flow": null,
            "grid_auto_rows": null,
            "grid_column": null,
            "grid_gap": null,
            "grid_row": null,
            "grid_template_areas": null,
            "grid_template_columns": null,
            "grid_template_rows": null,
            "height": null,
            "justify_content": null,
            "justify_items": null,
            "left": null,
            "margin": null,
            "max_height": null,
            "max_width": null,
            "min_height": null,
            "min_width": null,
            "object_fit": null,
            "object_position": null,
            "order": null,
            "overflow": null,
            "overflow_x": null,
            "overflow_y": null,
            "padding": null,
            "right": null,
            "top": null,
            "visibility": null,
            "width": null
          }
        },
        "dbc6631144a446f298b442ab06cfa696": {
          "model_module": "@jupyter-widgets/controls",
          "model_module_version": "1.5.0",
          "model_name": "HTMLModel",
          "state": {
            "_dom_classes": [],
            "_model_module": "@jupyter-widgets/controls",
            "_model_module_version": "1.5.0",
            "_model_name": "HTMLModel",
            "_view_count": null,
            "_view_module": "@jupyter-widgets/controls",
            "_view_module_version": "1.5.0",
            "_view_name": "HTMLView",
            "description": "",
            "description_tooltip": null,
            "layout": "IPY_MODEL_8ed3823d53dd4cdbb48f9d46abb733bf",
            "placeholder": "​",
            "style": "IPY_MODEL_8f060ac494144547bb1964cb2c13b8ce",
            "value": "Map: 100%"
          }
        },
        "dd04eb4158f14e70b6d94e7aa37e99ec": {
          "model_module": "@jupyter-widgets/controls",
          "model_module_version": "1.5.0",
          "model_name": "HTMLModel",
          "state": {
            "_dom_classes": [],
            "_model_module": "@jupyter-widgets/controls",
            "_model_module_version": "1.5.0",
            "_model_name": "HTMLModel",
            "_view_count": null,
            "_view_module": "@jupyter-widgets/controls",
            "_view_module_version": "1.5.0",
            "_view_name": "HTMLView",
            "description": "",
            "description_tooltip": null,
            "layout": "IPY_MODEL_bdbb7e6e2e7f4126b53eb7023f669814",
            "placeholder": "​",
            "style": "IPY_MODEL_0b390e285a8544b6bd3ad47aaade9bfb",
            "value": " 181/181 [00:00&lt;00:00, 2448.33 examples/s]"
          }
        },
        "e7a3bb754adf4f488d2b893feb9787ac": {
          "model_module": "@jupyter-widgets/base",
          "model_module_version": "1.2.0",
          "model_name": "LayoutModel",
          "state": {
            "_model_module": "@jupyter-widgets/base",
            "_model_module_version": "1.2.0",
            "_model_name": "LayoutModel",
            "_view_count": null,
            "_view_module": "@jupyter-widgets/base",
            "_view_module_version": "1.2.0",
            "_view_name": "LayoutView",
            "align_content": null,
            "align_items": null,
            "align_self": null,
            "border": null,
            "bottom": null,
            "display": null,
            "flex": null,
            "flex_flow": null,
            "grid_area": null,
            "grid_auto_columns": null,
            "grid_auto_flow": null,
            "grid_auto_rows": null,
            "grid_column": null,
            "grid_gap": null,
            "grid_row": null,
            "grid_template_areas": null,
            "grid_template_columns": null,
            "grid_template_rows": null,
            "height": null,
            "justify_content": null,
            "justify_items": null,
            "left": null,
            "margin": null,
            "max_height": null,
            "max_width": null,
            "min_height": null,
            "min_width": null,
            "object_fit": null,
            "object_position": null,
            "order": null,
            "overflow": null,
            "overflow_x": null,
            "overflow_y": null,
            "padding": null,
            "right": null,
            "top": null,
            "visibility": null,
            "width": null
          }
        },
        "ea58616a8f44443db05eb3d7c9f2a5af": {
          "model_module": "@jupyter-widgets/controls",
          "model_module_version": "1.5.0",
          "model_name": "DescriptionStyleModel",
          "state": {
            "_model_module": "@jupyter-widgets/controls",
            "_model_module_version": "1.5.0",
            "_model_name": "DescriptionStyleModel",
            "_view_count": null,
            "_view_module": "@jupyter-widgets/base",
            "_view_module_version": "1.2.0",
            "_view_name": "StyleView",
            "description_width": ""
          }
        },
        "ffbe2f8dca48433e9d557e61917ef6e6": {
          "model_module": "@jupyter-widgets/controls",
          "model_module_version": "1.5.0",
          "model_name": "DescriptionStyleModel",
          "state": {
            "_model_module": "@jupyter-widgets/controls",
            "_model_module_version": "1.5.0",
            "_model_name": "DescriptionStyleModel",
            "_view_count": null,
            "_view_module": "@jupyter-widgets/base",
            "_view_module_version": "1.2.0",
            "_view_name": "StyleView",
            "description_width": ""
          }
        }
      }
    }
  },
  "nbformat": 4,
  "nbformat_minor": 0
}
