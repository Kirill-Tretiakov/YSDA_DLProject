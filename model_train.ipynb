{
 "cells": [
  {
   "cell_type": "markdown",
   "id": "a4e039fd",
   "metadata": {},
   "source": [
    "# Данные"
   ]
  },
  {
   "cell_type": "code",
   "execution_count": null,
   "id": "615ab83d",
   "metadata": {
    "vscode": {
     "languageId": "plaintext"
    }
   },
   "outputs": [],
   "source": [
    "!pip install --quiet datasets"
   ]
  },
  {
   "cell_type": "code",
   "execution_count": null,
   "id": "c4e117ab",
   "metadata": {
    "vscode": {
     "languageId": "plaintext"
    }
   },
   "outputs": [],
   "source": [
    "from datasets import Dataset\n",
    "import json\n",
    "from collections import Counter\n",
    "from sklearn.model_selection import train_test_split"
   ]
  },
  {
   "cell_type": "markdown",
   "id": "81c5f2fc",
   "metadata": {},
   "source": [
    "# Читаем датасет"
   ]
  },
  {
   "cell_type": "code",
   "execution_count": null,
   "id": "6d37d245",
   "metadata": {
    "vscode": {
     "languageId": "plaintext"
    }
   },
   "outputs": [],
   "source": [
    "with open('dataset.json', 'r', encoding='utf-8') as f:\n",
    "    data = json.load(f)"
   ]
  },
  {
   "cell_type": "markdown",
   "id": "2d64916d",
   "metadata": {},
   "source": [
    "# Преобразуем классы"
   ]
  },
  {
   "cell_type": "code",
   "execution_count": null,
   "id": "b88397c2",
   "metadata": {
    "vscode": {
     "languageId": "plaintext"
    }
   },
   "outputs": [],
   "source": [
    "for d in data:\n",
    "    if d[\"label\"] == \"ANSWER\":\n",
    "        d[\"label\"] = \"CHAT\"\n",
    "    elif d[\"label\"] == \"SUPPORT\":\n",
    "        d[\"label\"] = \"QUESTION\""
   ]
  },
  {
   "cell_type": "markdown",
   "id": "3597d82b",
   "metadata": {},
   "source": [
    "# Некоторая инфа по таргет рейту данных"
   ]
  },
  {
   "cell_type": "code",
   "execution_count": null,
   "id": "c76614d9",
   "metadata": {
    "vscode": {
     "languageId": "plaintext"
    }
   },
   "outputs": [],
   "source": [
    "def calc_target_rates(data):\n",
    "  target_rates = {\n",
    "    \"SPAM\": 0,\n",
    "    \"QUESTION\": 0,\n",
    "    \"FEEDBACK\": 0,\n",
    "    \"CHAT\": 0,\n",
    "    \"IMPORTANT\": 0\n",
    "  }\n",
    "  for dct in data:\n",
    "    target_rates[dct['label']] += 1\n",
    "  return target_rates\n",
    "print(calc_target_rates(data))"
   ]
  },
  {
   "cell_type": "code",
   "execution_count": null,
   "id": "1fa6f0e9",
   "metadata": {
    "vscode": {
     "languageId": "plaintext"
    }
   },
   "outputs": [],
   "source": [
    "train_data, test_data = train_test_split(data, test_size=0.2, random_state=42, shuffle=True)"
   ]
  },
  {
   "cell_type": "code",
   "execution_count": null,
   "id": "7b91583b",
   "metadata": {
    "vscode": {
     "languageId": "plaintext"
    }
   },
   "outputs": [],
   "source": [
    "print(calc_target_rates(train_data))"
   ]
  },
  {
   "cell_type": "code",
   "execution_count": null,
   "id": "757302d2",
   "metadata": {
    "vscode": {
     "languageId": "plaintext"
    }
   },
   "outputs": [],
   "source": [
    "print(calc_target_rates(test_data))"
   ]
  },
  {
   "cell_type": "code",
   "execution_count": null,
   "id": "2bae9d1f",
   "metadata": {
    "vscode": {
     "languageId": "plaintext"
    }
   },
   "outputs": [],
   "source": [
    "import random\n",
    "\n",
    "dataset_train = Dataset.from_list(train_data)\n",
    "\n",
    "test_data_arr = [t[\"text\"] for t in test_data]\n",
    "dataset_test = Dataset.from_list(test_data)"
   ]
  },
  {
   "cell_type": "code",
   "execution_count": null,
   "id": "a6a7a5c6",
   "metadata": {
    "vscode": {
     "languageId": "plaintext"
    }
   },
   "outputs": [],
   "source": [
    "dataset_train"
   ]
  },
  {
   "cell_type": "code",
   "execution_count": null,
   "id": "7d1f9537",
   "metadata": {
    "vscode": {
     "languageId": "plaintext"
    }
   },
   "outputs": [],
   "source": [
    "dataset_test"
   ]
  },
  {
   "cell_type": "markdown",
   "id": "8a2237d9",
   "metadata": {},
   "source": [
    "# Параметры"
   ]
  },
  {
   "cell_type": "code",
   "execution_count": null,
   "id": "bcbb1622",
   "metadata": {
    "vscode": {
     "languageId": "plaintext"
    }
   },
   "outputs": [],
   "source": [
    "id2label = {\n",
    "    0: \"SPAM\",\n",
    "    1: \"QUESTION\",\n",
    "    2: \"FEEDBACK\",\n",
    "    3: \"CHAT\",\n",
    "    4: \"IMPORTANT\"\n",
    "}\n",
    "\n",
    "label2id = {v: k for k, v in id2label.items()}"
   ]
  },
  {
   "cell_type": "markdown",
   "id": "a743af39",
   "metadata": {},
   "source": [
    "# Модель"
   ]
  },
  {
   "cell_type": "code",
   "execution_count": null,
   "id": "7a59219b",
   "metadata": {
    "vscode": {
     "languageId": "plaintext"
    }
   },
   "outputs": [],
   "source": [
    "from transformers import AutoTokenizer, AutoModelForSequenceClassification\n",
    "from transformers import TrainingArguments, Trainer\n",
    "from transformers import pipeline"
   ]
  },
  {
   "cell_type": "code",
   "execution_count": null,
   "id": "64398a25",
   "metadata": {
    "vscode": {
     "languageId": "plaintext"
    }
   },
   "outputs": [],
   "source": [
    "from google.colab import userdata\n",
    "from huggingface_hub import login\n",
    "\n",
    "hf_token = userdata.get('HF_TOKEN')\n",
    "login(token=hf_token)"
   ]
  },
  {
   "cell_type": "code",
   "execution_count": null,
   "id": "56d4b576",
   "metadata": {
    "vscode": {
     "languageId": "plaintext"
    }
   },
   "outputs": [],
   "source": [
    "import torch\n",
    "device = torch.device(\"cuda\" if torch.cuda.is_available() else \"cpu\")\n",
    "print(f\"Using device: {device}\")"
   ]
  },
  {
   "cell_type": "code",
   "execution_count": null,
   "id": "eea0e438",
   "metadata": {
    "vscode": {
     "languageId": "plaintext"
    }
   },
   "outputs": [],
   "source": [
    "from torch import nn\n",
    "from transformers import AutoModel, AutoModelForSequenceClassification\n",
    "\n",
    "class CustomClassificationHead(nn.Module):\n",
    "    def __init__(self, hidden_size, num_labels):\n",
    "        super().__init__()\n",
    "        self.layers = nn.Sequential(\n",
    "            nn.Linear(hidden_size, hidden_size),\n",
    "            nn.ReLU(),\n",
    "            nn.Linear(hidden_size, hidden_size // 2),\n",
    "            nn.ReLU(),\n",
    "            nn.Linear(hidden_size // 2, num_labels)\n",
    "        )\n",
    "\n",
    "    def forward(self, x):\n",
    "        return self.layers(x)\n",
    "\n",
    "class CustomModel(AutoModelForSequenceClassification):\n",
    "    def __init__(self, config):\n",
    "        super().__init__(config)\n",
    "        self.num_labels = config.num_labels\n",
    "        self.bert = AutoModel.from_pretrained(config._name_or_path, config=config)\n",
    "        hidden_size = config.hidden_size\n",
    "\n",
    "        self.classifier = CustomClassificationHead(hidden_size, config.num_labels)\n",
    "\n",
    "    def forward(self, **kwargs):\n",
    "        outputs = self.bert(**kwargs)\n",
    "        pooled_output = outputs.pooler_output  # [CLS] токен\n",
    "        logits = self.classifier(pooled_output)\n",
    "        return {'logits': logits}"
   ]
  },
  {
   "cell_type": "code",
   "execution_count": null,
   "id": "aad17aa2",
   "metadata": {
    "vscode": {
     "languageId": "plaintext"
    }
   },
   "outputs": [],
   "source": [
    "from transformers import AutoTokenizer, AutoConfig\n",
    "\n",
    "model_name = \"blanchefort/rubert-base-cased-sentiment\"\n",
    "\n",
    "tokenizer = AutoTokenizer.from_pretrained(model_name)\n",
    "config = AutoConfig.from_pretrained(\n",
    "    model_name,\n",
    "    num_labels=len(id2label),\n",
    "    id2label=id2label,\n",
    "    label2id=label2id\n",
    ")\n",
    "\n",
    "model = CustomModel.from_pretrained(model_name, config=config, ignore_mismatched_sizes=True).to(device)"
   ]
  },
  {
   "cell_type": "markdown",
   "id": "47a400e9",
   "metadata": {},
   "source": [
    "# Обучение"
   ]
  },
  {
   "cell_type": "code",
   "execution_count": null,
   "id": "508b0542",
   "metadata": {
    "vscode": {
     "languageId": "plaintext"
    }
   },
   "outputs": [],
   "source": [
    "def tokenize_function(examples):\n",
    "    tokenized = tokenizer(examples[\"text\"], padding=\"max_length\", truncation=True, max_length=128)\n",
    "    tokenized[\"label\"] = [label2id[label] for label in examples[\"label\"]]\n",
    "    return tokenized\n",
    "\n",
    "tokenized_datasets_train = dataset_train.map(\n",
    "    tokenize_function,\n",
    "    batched=True,\n",
    "    remove_columns=[\"text\", \"label\"]\n",
    ")\n",
    "\n",
    "tokenized_datasets_test = dataset_test.map(\n",
    "    tokenize_function,\n",
    "    batched=True,\n",
    "    remove_columns=[\"text\", \"label\"]\n",
    ")"
   ]
  },
  {
   "cell_type": "code",
   "execution_count": null,
   "id": "2bdad70e",
   "metadata": {
    "vscode": {
     "languageId": "plaintext"
    }
   },
   "outputs": [],
   "source": [
    "from sklearn.metrics import precision_score, recall_score, f1_score\n",
    "import numpy as np\n",
    "from transformers import Trainer, TrainingArguments, EarlyStoppingCallback\n",
    "\n",
    "# Определяем функцию для расчета метрик\n",
    "def compute_metrics(p):\n",
    "    predictions, labels = p\n",
    "    predictions = np.argmax(predictions, axis=1)\n",
    "\n",
    "    precision = precision_score(labels, predictions, average='macro', labels=np.unique(labels))\n",
    "    recall = recall_score(labels, predictions, average='macro', labels=np.unique(labels))\n",
    "    f1 = f1_score(labels, predictions, average='macro', labels=np.unique(labels))\n",
    "\n",
    "    return {\n",
    "        'precision': precision,\n",
    "        'recall': recall,\n",
    "        'f1': f1\n",
    "    }\n",
    "\n",
    "training_args = TrainingArguments(\n",
    "    output_dir=\"./results\",\n",
    "    evaluation_strategy=\"steps\",\n",
    "    save_strategy=\"steps\",\n",
    "    save_steps=1000,\n",
    "    save_total_limit=3,\n",
    "    load_best_model_at_end=True,\n",
    "    metric_for_best_model=\"f1\",\n",
    "    greater_is_better=True,\n",
    "    num_train_epochs=50,\n",
    "    logging_dir=\"./logs\",\n",
    "    logging_steps=1000,\n",
    ")\n",
    "\n",
    "trainer = Trainer(\n",
    "    model=model,\n",
    "    args=training_args,\n",
    "    train_dataset=tokenized_datasets_train,\n",
    "    eval_dataset=tokenized_datasets_test,\n",
    "    compute_metrics=compute_metrics,\n",
    "    callbacks=[EarlyStoppingCallback(early_stopping_patience=2)],\n",
    ")\n",
    "\n",
    "trainer.train()\n",
    "\n",
    "eval_results = trainer.evaluate()\n",
    "\n",
    "print(f\"Evaluation Results: {eval_results}\")"
   ]
  },
  {
   "cell_type": "markdown",
   "id": "fa6a7019",
   "metadata": {},
   "source": [
    "# Проверка"
   ]
  },
  {
   "cell_type": "code",
   "execution_count": null,
   "id": "38171dab",
   "metadata": {
    "vscode": {
     "languageId": "plaintext"
    }
   },
   "outputs": [],
   "source": [
    "def convert_labels_to_vector(data, label2id):\n",
    "    return [label2id[item['label']] for item in data]"
   ]
  },
  {
   "cell_type": "code",
   "execution_count": null,
   "id": "4ea0b92a",
   "metadata": {
    "vscode": {
     "languageId": "plaintext"
    }
   },
   "outputs": [],
   "source": [
    "test_data_arr[:5]"
   ]
  },
  {
   "cell_type": "code",
   "execution_count": null,
   "id": "59f80290",
   "metadata": {
    "vscode": {
     "languageId": "plaintext"
    }
   },
   "outputs": [],
   "source": [
    "y_test = convert_labels_to_vector(test_data, label2id)"
   ]
  },
  {
   "cell_type": "code",
   "execution_count": null,
   "id": "e6d2ad93",
   "metadata": {
    "vscode": {
     "languageId": "plaintext"
    }
   },
   "outputs": [],
   "source": [
    "from sklearn.metrics import accuracy_score, precision_score, recall_score"
   ]
  },
  {
   "cell_type": "code",
   "execution_count": null,
   "id": "350080cc",
   "metadata": {
    "vscode": {
     "languageId": "plaintext"
    }
   },
   "outputs": [],
   "source": [
    "label2id"
   ]
  },
  {
   "cell_type": "code",
   "execution_count": null,
   "id": "6850f945",
   "metadata": {
    "vscode": {
     "languageId": "plaintext"
    }
   },
   "outputs": [],
   "source": [
    "classifier = pipeline(\n",
    "    \"text-classification\",\n",
    "    model=model,\n",
    "    tokenizer=tokenizer\n",
    ")\n",
    "\n",
    "y_pred = []\n",
    "for text in test_data_arr:\n",
    "    result = classifier(text)\n",
    "    y_pred.append(label2id[result[0]['label']])\n",
    "    #print(f\"Текст: {text[:30]}... | Класс: {result[0]['label']}\")"
   ]
  },
  {
   "cell_type": "code",
   "execution_count": null,
   "id": "a8c0f86e",
   "metadata": {
    "vscode": {
     "languageId": "plaintext"
    }
   },
   "outputs": [],
   "source": [
    "accuracy_score(y_test, y_pred)"
   ]
  },
  {
   "cell_type": "code",
   "execution_count": null,
   "id": "76b9f6e4",
   "metadata": {
    "vscode": {
     "languageId": "plaintext"
    }
   },
   "outputs": [],
   "source": [
    "precision_class_SPAM = precision_score(y_test, y_pred, labels=[0], average='micro')\n",
    "recall_class_SPAM = recall_score(y_test, y_pred, labels=[0], average='micro')\n",
    "precision_class_SPAM, recall_class_SPAM"
   ]
  },
  {
   "cell_type": "code",
   "execution_count": null,
   "id": "a8dcc544",
   "metadata": {
    "vscode": {
     "languageId": "plaintext"
    }
   },
   "outputs": [],
   "source": [
    "precision_class_QUESTION = precision_score(y_test, y_pred, labels=[1], average='micro')\n",
    "recall_class_QUESTION = recall_score(y_test, y_pred, labels=[1], average='micro')\n",
    "precision_class_QUESTION, recall_class_QUESTION"
   ]
  },
  {
   "cell_type": "code",
   "execution_count": null,
   "id": "c2948ce6",
   "metadata": {
    "vscode": {
     "languageId": "plaintext"
    }
   },
   "outputs": [],
   "source": [
    "precision_class_FEEDBACK = precision_score(y_test, y_pred, labels=[2], average='micro')\n",
    "recall_class_FEEDBACK = recall_score(y_test, y_pred, labels=[2], average='micro')\n",
    "precision_class_FEEDBACK, recall_class_FEEDBACK"
   ]
  },
  {
   "cell_type": "code",
   "execution_count": null,
   "id": "910ee63b",
   "metadata": {
    "vscode": {
     "languageId": "plaintext"
    }
   },
   "outputs": [],
   "source": [
    "precision_class_CHAT = precision_score(y_test, y_pred, labels=[3], average='micro')\n",
    "recall_class_CHAT = recall_score(y_test, y_pred, labels=[3], average='micro')\n",
    "precision_class_CHAT, recall_class_CHAT"
   ]
  },
  {
   "cell_type": "code",
   "execution_count": null,
   "id": "edf4788c",
   "metadata": {
    "vscode": {
     "languageId": "plaintext"
    }
   },
   "outputs": [],
   "source": [
    "precision_class_IMPORTANT = precision_score(y_test, y_pred, labels=[4], average='micro')\n",
    "recall_class_IMPORTANT = recall_score(y_test, y_pred, labels=[4], average='micro')\n",
    "precision_class_IMPORTANT, recall_class_IMPORTANT"
   ]
  },
  {
   "cell_type": "code",
   "execution_count": null,
   "id": "6b0a32cb",
   "metadata": {
    "vscode": {
     "languageId": "plaintext"
    }
   },
   "outputs": [],
   "source": [
    "precision = precision_score(y_test, y_pred, average='macro', labels=[0,1,2,3,4])\n",
    "recall = recall_score(y_test, y_pred, average='macro', labels=[0,1,2,3,4])\n",
    "f1 = f1_score(y_test, y_pred, average='macro', labels=[0,1,2,3,4])\n",
    "precision, recall, f1"
   ]
  }
 ],
 "metadata": {
  "language_info": {
   "name": "python"
  }
 },
 "nbformat": 4,
 "nbformat_minor": 5
}
